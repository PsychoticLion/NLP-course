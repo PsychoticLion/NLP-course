{
 "cells": [
  {
   "cell_type": "code",
   "execution_count": 83,
   "metadata": {
    "scrolled": false
   },
   "outputs": [],
   "source": [
    "BEIJING,SHANGHAI,CHANGCHUN,WUHAN,WULUMUQI,NEWYORK,SHENZHEN,GUANGZHOU,BANGKOK = \"\"\"\n",
    "BEIJING SHANGHAI CHANGCHUN WUHAN WULUMUQI NEWYORK SHENZHEN GUANGZHOU BANGKOK\n",
    "\"\"\".split()#按格式分词，前面的每一变量指向后面的每一字符.slit将目标切割成元素。切割后若不具体对应赋值，则以列表形式存在\n"
   ]
  },
  {
   "cell_type": "code",
   "execution_count": 84,
   "metadata": {},
   "outputs": [
    {
     "name": "stdout",
     "output_type": "stream",
     "text": [
      "BEIJING CHANGCHUN NEWYORK\n"
     ]
    }
   ],
   "source": [
    "print (BEIJING,CHANGCHUN,NEWYORK)"
   ]
  },
  {
   "cell_type": "code",
   "execution_count": 85,
   "metadata": {},
   "outputs": [],
   "source": [
    "dictionary = {}"
   ]
  },
  {
   "cell_type": "code",
   "execution_count": 86,
   "metadata": {},
   "outputs": [],
   "source": [
    "connection = {\n",
    "    CHANGCHUN: [BEIJING],\n",
    "    WULUMUQI: [BEIJING], \n",
    "    BEIJING: [WULUMUQI, CHANGCHUN, WUHAN, SHENZHEN, NEWYORK],\n",
    "    NEWYORK: [BEIJING, SHANGHAI],\n",
    "    SHANGHAI: [NEWYORK, WUHAN],\n",
    "    WUHAN: [SHANGHAI, BEIJING, GUANGZHOU],\n",
    "    GUANGZHOU: [WUHAN, BANGKOK],\n",
    "    SHENZHEN: [WUHAN, BANGKOK],\n",
    "    BANGKOK: [SHENZHEN, GUANGZHOU]\n",
    "}#用字典connection构建联系，冒号前的内容为索引，冒号后的部分为特定索引所对应的元素的集合"
   ]
  },
  {
   "cell_type": "code",
   "execution_count": 87,
   "metadata": {},
   "outputs": [
    {
     "name": "stdout",
     "output_type": "stream",
     "text": [
      "{'CHANGCHUN': ['BEIJING'], 'WULUMUQI': ['BEIJING'], 'BEIJING': ['WULUMUQI', 'CHANGCHUN', 'WUHAN', 'SHENZHEN', 'NEWYORK'], 'NEWYORK': ['BEIJING', 'SHANGHAI'], 'SHANGHAI': ['NEWYORK', 'WUHAN'], 'WUHAN': ['SHANGHAI', 'BEIJING', 'GUANGZHOU'], 'GUANGZHOU': ['WUHAN', 'BANGKOK'], 'SHENZHEN': ['WUHAN', 'BANGKOK'], 'BANGKOK': ['SHENZHEN', 'GUANGZHOU']}\n"
     ]
    }
   ],
   "source": [
    "print(connection)"
   ]
  },
  {
   "cell_type": "code",
   "execution_count": 88,
   "metadata": {},
   "outputs": [
    {
     "name": "stderr",
     "output_type": "stream",
     "text": [
      "UsageError: unrecognized arguments: notebook中显示；老师您说plt.show()这句命令也可以起到同样的作用，但是我使用的时候会进行报错，\n"
     ]
    }
   ],
   "source": [
    "import networkx as n#加入networks，并将之简称为n\n",
    "%matplotlib inline#为了使图像可以在jupyter notebook中显示；老师您说plt.show()这句命令也可以起到同样的作用，但是我使用的时候会进行报错，\n",
    "#这里的意思是说需要再进行额外的import操作吗？    报错内容如下：NameError                                 Traceback (most recent call last)\n",
    "#<ipython-input-26-1eb00ff78cf2> in <module>\n",
    "#----> 1 plt.show()\n",
    "\n",
    "#NameError: name 'plt' is not defined\n",
    "\n"
   ]
  },
  {
   "cell_type": "code",
   "execution_count": 99,
   "metadata": {},
   "outputs": [],
   "source": [
    "g = n.Graph(connection)"
   ]
  },
  {
   "cell_type": "code",
   "execution_count": 90,
   "metadata": {},
   "outputs": [
    {
     "data": {
      "image/png": "[encoded data removed]",
      "text/plain": [
       "<Figure size 432x288 with 1 Axes>"
      ]
     },
     "metadata": {},
     "output_type": "display_data"
    }
   ],
   "source": [
    "n.draw(g)"
   ]
  },
  {
   "cell_type": "code",
   "execution_count": 111,
   "metadata": {},
   "outputs": [],
   "source": [
    "def research_get_shortest_way (start,destination,connection_graph):\n",
    "    #此函数return最短路径，所以输出应为一个列表，其中有序排列的元素表示按顺序经过的子节点。由于目的是得到最短的路径，所以要求遍历所有的\n",
    "    #可能组合。由此我们使用广度优先的思路进行coding。函数输入分别为初始地点，结束地点和以图为组织结构的内部逻辑关联。转换为物理模型，即为\n",
    "    #知道边界条件和内部演变逻辑，求特定极值的问题。内部逻辑是其中的重中之重。\n",
    "    stored_data = [[start]]#待处理数据存放处，对该库有读写两个基本操作\n",
    "    check = set()#检测元素是否已经读取过\n",
    "    \n",
    "    while stored_data:\n",
    "        reader_one = stored_data.pop(0)#需要特别注意的是，这里取出的是列表而不是元素，所以这里读头一得到的结果\n",
    "        #需要由读头二进行第二次读取以得到列表中的元素.最终输出的也是读头一中的列表\n",
    "        reader_two = reader_one[-1]#注意，两个读头的读取位置不同,该读头读取的是元素\n",
    "        \n",
    "        if reader_two in check:\n",
    "            continue#如果读头二读取的元素在检测组中，那么直接跳过该循环，进行下一循环。在进行该判断前，该元素所在组已经被剔除出了未处理数据库\n",
    "        \n",
    "        successors = connection_graph[reader_two]#由connection_graph这张“图鉴”，得到特定节点的后续所有子节点，这里successors是一个列表\n",
    "        print(successors)\n",
    "        for i in successors:\n",
    "            if i == destination:\n",
    "                return reader_one + [i]#如果子节点为最终目的地，根据广度优先的逻辑，已经得到了一个最优解，可续已经可以终止了\n",
    "            else:\n",
    "                stored_data.append(reader_one + [i])#将新的待处理数据添加到未处理数据库里，这个新的数据并没有丢弃原先的数据，只是增加了新的\n",
    "                #数据，所以读头二的读取位置才是[-1]，这样正是为了避免重复读取；加减操作比append和add的指令方便的多，要充分利用\n",
    "                \n",
    "        stored_data = sorted(stored_data,key=len)#这里是很关键的一步，对新的待处理数据库（数据库中的是一个个列表而不是元素）根据元素的数目\n",
    "        #进行重整，也正是这个重整决定读头一的读取位置为(0)。也正是这个排序，实现了广度优先，只有将一层的所有可能都遍历之后（扫场），程序才会进行到\n",
    "        #入下一层\n",
    "        \n",
    "        check.add(reader_two)#对搜索过的节点进行记录；add加元素，append加列表\n",
    "    \n",
    "\n",
    "            \n",
    "                \n",
    "        \n",
    "        \n",
    "        \n",
    "       \n",
    "            \n",
    "            \n",
    "            \n",
    "   \n",
    "    \n",
    "    "
   ]
  },
  {
   "cell_type": "code",
   "execution_count": 113,
   "metadata": {},
   "outputs": [
    {
     "name": "stdout",
     "output_type": "stream",
     "text": [
      "['WULUMUQI', 'CHANGCHUN', 'WUHAN', 'SHENZHEN', 'NEWYORK']\n",
      "['BEIJING']\n",
      "['BEIJING']\n",
      "['SHANGHAI', 'BEIJING', 'GUANGZHOU']\n",
      "['BEIJING', 'WUHAN', 'GUANGZHOU']\n"
     ]
    }
   ],
   "source": [
    "print(research_get_shortest_way(BEIJING,GUANGZHOU,connection))#注意这里的“图鉴”是最初定义的字典connection而不是图的g"
   ]
  },
  {
   "cell_type": "code",
   "execution_count": 104,
   "metadata": {},
   "outputs": [],
   "source": [
    "def bfs (start,destination,connection_graph):\n",
    "    stored_data = [start]#和上面不同，这里仅仅是遍历整个图，而不需要给出具体的输出，所以这里是元素而不是列表\n",
    "    check = set()\n",
    "    \n",
    "    while stored_data:\n",
    "        reader = stored_data.pop(0)\n",
    "        if reader in check:\n",
    "            continue\n",
    "        \n",
    "        successors = connection_graph[reader]\n",
    "        \n",
    "        print(reader,successors)\n",
    "        \n",
    "        stored_data = stored_data + successors#就和存货的发出成本计量一样，对于广度优先，采取先进先出。\n",
    "        \n",
    "        check.add(reader)\n",
    "        \n",
    "    \n",
    "    "
   ]
  },
  {
   "cell_type": "code",
   "execution_count": 114,
   "metadata": {},
   "outputs": [
    {
     "name": "stdout",
     "output_type": "stream",
     "text": [
      "BEIJING ['WULUMUQI', 'CHANGCHUN', 'WUHAN', 'SHENZHEN', 'NEWYORK']\n",
      "WULUMUQI ['BEIJING']\n",
      "CHANGCHUN ['BEIJING']\n",
      "WUHAN ['SHANGHAI', 'BEIJING', 'GUANGZHOU']\n",
      "SHENZHEN ['WUHAN', 'BANGKOK']\n",
      "NEWYORK ['BEIJING', 'SHANGHAI']\n",
      "SHANGHAI ['NEWYORK', 'WUHAN']\n",
      "GUANGZHOU ['WUHAN', 'BANGKOK']\n",
      "BANGKOK ['SHENZHEN', 'GUANGZHOU']\n"
     ]
    }
   ],
   "source": [
    "bfs(BEIJING,GUANGZHOU,connection)"
   ]
  },
  {
   "cell_type": "code",
   "execution_count": 109,
   "metadata": {},
   "outputs": [],
   "source": [
    "def dfs (start,destination,connection_graph):\n",
    "    \n",
    "    stored_data = [start]\n",
    "    check = set()\n",
    "    \n",
    "    while stored_data:\n",
    "        reader = stored_data.pop(0)\n",
    "        if reader in check:\n",
    "            continue\n",
    "        \n",
    "        successors = connection_graph[reader]\n",
    "        \n",
    "        print(reader,successors)\n",
    "        \n",
    "        stored_data = successors + stored_data#对于深度优先，采取先进后出。深度优先与广度优先唯一的区别就在于读取的先后顺序刚好相反\n",
    "        \n",
    "        check.add(reader)\n",
    "    "
   ]
  },
  {
   "cell_type": "code",
   "execution_count": 115,
   "metadata": {},
   "outputs": [
    {
     "name": "stdout",
     "output_type": "stream",
     "text": [
      "BEIJING ['WULUMUQI', 'CHANGCHUN', 'WUHAN', 'SHENZHEN', 'NEWYORK']\n",
      "WULUMUQI ['BEIJING']\n",
      "CHANGCHUN ['BEIJING']\n",
      "WUHAN ['SHANGHAI', 'BEIJING', 'GUANGZHOU']\n",
      "SHANGHAI ['NEWYORK', 'WUHAN']\n",
      "NEWYORK ['BEIJING', 'SHANGHAI']\n",
      "GUANGZHOU ['WUHAN', 'BANGKOK']\n",
      "BANGKOK ['SHENZHEN', 'GUANGZHOU']\n",
      "SHENZHEN ['WUHAN', 'BANGKOK']\n"
     ]
    }
   ],
   "source": [
    "dfs(BEIJING,GUANGZHOU,connection)"
   ]
  },
  {
   "cell_type": "code",
   "execution_count": null,
   "metadata": {},
   "outputs": [],
   "source": [
    "SENTENCE GENERATION"
   ]
  },
  {
   "cell_type": "code",
   "execution_count": 1,
   "metadata": {},
   "outputs": [],
   "source": [
    "import random#由于需要随机选取，所以需要添加random组件\n"
   ]
  },
  {
   "cell_type": "code",
   "execution_count": 12,
   "metadata": {},
   "outputs": [],
   "source": [
    "grammar = \"\"\"\n",
    "sentence => noun_phrase verb_phrase \n",
    "noun_phrase => Article Adj* noun\n",
    "Adj* => null | Adj Adj*\n",
    "verb_phrase => verb noun_phrase\n",
    "Article =>  一个 | 这个\n",
    "noun =>   女人 |  篮球 | 桌子 | 小猫\n",
    "verb => 看着   |  坐在 |  听着 | 看见\n",
    "Adj =>   蓝色的 |  好看的 | 小小的\n",
    "\"\"\"\n",
    "#生成模板，这里的模板是字符，不方便操作，所以我们需要将文字表示的规则列表或字典化。相比于字符，列表与字典的操作空间更大"
   ]
  },
  {
   "cell_type": "code",
   "execution_count": 13,
   "metadata": {},
   "outputs": [],
   "source": [
    "def get_rules(grammar_str,sep = '=>'):\n",
    "    #输入为字符表示的规则和将规则列表化的切割指标\n",
    "    rules = {}\n",
    "    for i in grammar_str.split('\\n'):\n",
    "        i = i.strip()#第一步的规范化，去除多余的空格。这一步具有更深刻的意义吗？如果不进行该操作，会有什么影响吗？\n",
    "        #！！！！！！！！！！！！！！！！！！！！！\n",
    "        if not i :\n",
    "            continue\n",
    "        target,compontent = i.split(sep)\n",
    "        \n",
    "        rules[target.strip()] = [r.split() for r in compontent.split('|')]#这一句是填充词典的一句,二次细分。需要格外注意的是，r是元素。compontent\n",
    "        #可能是元素也可能是列表。注意这里切割的顺序，先对'|'切分，再对空格切分。这一步在下面的生成等式里是关键的步骤\n",
    "    return rules\n",
    "#我们对最初始的文本规则进行了三次规范：1.将一个整体由换行符分割为一行一行；2.对每一行，用指定的分割记号，切分为由元素组成的列表；3.对上面\n",
    "#列表中的特定元素（此处为列表，也就是列表套列表）在进行细分"
   ]
  },
  {
   "cell_type": "code",
   "execution_count": 14,
   "metadata": {},
   "outputs": [],
   "source": [
    "def gene(rules, target='sentence'):\n",
    "    #两个传入参数，前者是所有的生成规则，后者是“应用场景”也是前者中最为根本的规则\n",
    "    if target not in rules: return target\n",
    "    \n",
    "    rule = random.choice(rules[target])#rule可能是元素也可能是列表\n",
    "    \n",
    "    return ''.join(gene(rules,target = r) for r in rule if r != 'null')#递归，运用简而治之的逻辑"
   ]
  },
  {
   "cell_type": "code",
   "execution_count": 15,
   "metadata": {},
   "outputs": [],
   "source": [
    "rules = get_rules(grammar)"
   ]
  },
  {
   "cell_type": "code",
   "execution_count": 16,
   "metadata": {},
   "outputs": [
    {
     "name": "stdout",
     "output_type": "stream",
     "text": [
      "{'sentence': [['noun_phrase', 'verb_phrase']], 'noun_phrase': [['Article', 'Adj*', 'noun']], 'Adj*': [['null'], ['Adj', 'Adj*']], 'verb_phrase': [['verb', 'noun_phrase']], 'Article': [['一个'], ['这个']], 'noun': [['女人'], ['篮球'], ['桌子'], ['小猫']], 'verb': [['看着'], ['坐在'], ['听着'], ['看见']], 'Adj': [['蓝色的'], ['好看的'], ['小小的']]}\n"
     ]
    }
   ],
   "source": [
    "print(rules)"
   ]
  },
  {
   "cell_type": "code",
   "execution_count": 18,
   "metadata": {},
   "outputs": [
    {
     "name": "stdout",
     "output_type": "stream",
     "text": [
      "一个小猫听着一个桌子\n",
      "这个桌子坐在一个篮球\n",
      "一个蓝色的篮球听着一个好看的篮球\n",
      "一个女人看见这个好看的小小的女人\n",
      "一个女人坐在一个蓝色的桌子\n",
      "一个小猫听着这个蓝色的篮球\n",
      "这个篮球看着一个好看的女人\n",
      "这个女人看着一个蓝色的好看的桌子\n",
      "这个小小的小小的桌子听着一个小小的小猫\n",
      "这个小猫听着一个小小的小猫\n"
     ]
    }
   ],
   "source": [
    "for i in range(10):\n",
    "    print(gene(rules,'sentence'))"
   ]
  },
  {
   "cell_type": "code",
   "execution_count": 19,
   "metadata": {},
   "outputs": [],
   "source": [
    "decimal_grammar = \"\"\"\n",
    "expression = operator op operator\n",
    "operator = num op num\n",
    "num = 0 | 1 | 2 | 3 | 4 | 5 | 6 | 7 | 8 | 9 | num num\n",
    "op = + | - | * | /\n",
    "\"\"\""
   ]
  },
  {
   "cell_type": "code",
   "execution_count": 20,
   "metadata": {},
   "outputs": [],
   "source": [
    "rules_two = get_rules(decimal_grammar,sep = '=')"
   ]
  },
  {
   "cell_type": "code",
   "execution_count": 22,
   "metadata": {},
   "outputs": [
    {
     "name": "stdout",
     "output_type": "stream",
     "text": [
      "6+80+8*9\n",
      "8-0*8*9\n",
      "8*5-6*1\n",
      "4+2+3/7\n",
      "25-4+7-7\n",
      "5-5+0/8\n",
      "6+2/0+5\n",
      "9*2+8-2\n",
      "6*2/7+4\n",
      "7-0/6*1\n"
     ]
    }
   ],
   "source": [
    "for i in range(10):\n",
    "    print(gene(rules_two,target= 'expression'))"
   ]
  },
  {
   "cell_type": "code",
   "execution_count": null,
   "metadata": {},
   "outputs": [],
   "source": []
  }
 ],
 "metadata": {
  "kernelspec": {
   "display_name": "Python 3",
   "language": "python",
   "name": "python3"
  },
  "language_info": {
   "codemirror_mode": {
    "name": "ipython",
    "version": 3
   },
   "file_extension": ".py",
   "mimetype": "text/x-python",
   "name": "python",
   "nbconvert_exporter": "python",
   "pygments_lexer": "ipython3",
   "version": "3.7.1"
  }
 },
 "nbformat": 4,
 "nbformat_minor": 2
}
